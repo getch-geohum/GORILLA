{
 "cells": [
  {
   "cell_type": "code",
   "execution_count": 12,
   "id": "b9415bff-f9a9-4a3b-9a9a-da5388dcc61a",
   "metadata": {},
   "outputs": [],
   "source": [
    "import argparse\n",
    "import numpy as np\n",
    "import rasterio\n",
    "from rasterio.io import MemoryFile\n",
    "from rasterio.merge import merge\n",
    "import os\n",
    "import torch\n",
    "from tqdm import tqdm"
   ]
  },
  {
   "cell_type": "code",
   "execution_count": 26,
   "id": "1a745f1b-d343-43fd-8e1d-aec05660e28c",
   "metadata": {},
   "outputs": [],
   "source": [
    "def predict(model, image, tile=True):\n",
    "    if tile:\n",
    "        out = torch.empty(size=(512,512))\n",
    "        for i in range(2):\n",
    "            for j in range(2):\n",
    "                sub = image[:,:, i*256:i*256+256, j*256:j*256+256]\n",
    "                out_ = model(sub)\n",
    "                out_ = torch.nn.Softmax(dim=1)(out_)\n",
    "                out_ = torch.argmax(out_, dim=1).squeeze().long().cpu().numpy()\n",
    "                out[i*256:i*256+256, j*256:j*256+256] = out_\n",
    "    else:\n",
    "        out = model(image)  # assuming both are at the same device\n",
    "        out = torch.nn.Softmax(dim=1)(out)\n",
    "        out = torch.argmax(out, dim=1).squeeze().long().cpu().numpy() # this gives image without batch dim as i9niger data type\n",
    "    return out"
   ]
  },
  {
   "cell_type": "code",
   "execution_count": 27,
   "id": "ee196c7e-929e-439d-a79b-40b06e1a3c95",
   "metadata": {},
   "outputs": [],
   "source": [
    "def preprocess(img, resze=False, size=512, channel_first=True):\n",
    "    if resze:\n",
    "        assert size is not None, 'Resie dimension is required.'\n",
    "    \n",
    "    if channel_first:\n",
    "        size = (4, size, size)\n",
    "    else:\n",
    "        size = (size, size, 4)\n",
    "    img = no.resize(img, new_size=size)\n",
    "    img = (img.min())/((img.max()-img.min())+ 1e-7)\n",
    "    \n",
    "    img = torch.from_numy(img) \n",
    "    \n",
    "    if not channel_first:\n",
    "        img = img.permute(2, 0, 1).unsqueeze(0)\n",
    "        \n",
    "    return img"
   ]
  },
  {
   "cell_type": "code",
   "execution_count": 28,
   "id": "eece32eb-13db-4eb1-815f-2534aa225915",
   "metadata": {},
   "outputs": [],
   "source": [
    "def load_model(channel, n_class, weights):\n",
    "    model = UNet(n_channels=channel, n_classes=n_class, bilinear=True)\n",
    "    model = model.load_state_dict(torch.load(weights))\n",
    "    return model"
   ]
  },
  {
   "cell_type": "code",
   "execution_count": 29,
   "id": "de254692-0e26-4dd7-8615-53b7fb549658",
   "metadata": {},
   "outputs": [],
   "source": [
    "def predict_moaic(files, n_channel, n_class, checkpoint, out_dir, shape):\n",
    "    '''\n",
    "    files: list of file pathes for rasters\n",
    "    n_channel: number of channels in the image\n",
    "    n_class: number of coutput classes from the model\n",
    "    chkpoint_dir: checkpoint or model weight full path\n",
    "    out_dir: the directory to save predicted and mosaiced image\n",
    "    '''\n",
    "    \n",
    "    device = torch.device('cuda' if torch.cuda.is_available() else 'cpu')\n",
    "    model = load_model(channel=n_channel, n_class=n_class, weights=checkpoint)\n",
    "    model = model.to(device)\n",
    "\n",
    "    mosaic_container = []\n",
    "    for file in tqdm(files):\n",
    "        ins = rasterio.open(file)\n",
    "        profile = ins.profile\n",
    "        profile.update(count=1, dtype=np.uint8)\n",
    "        arr = ins.read() # assuming its 4 chnnel image\n",
    "        c, h, w = arr.shape\n",
    "\n",
    "        pr_array = preprocess(img = arr, resize=True, size = shape, channel_first=True)\n",
    "        pr_array = pr_array.to(device)\n",
    "\n",
    "        pr_array_resize = np.resize(pr_array, new_size=(h, w))\n",
    "\n",
    "        with MemoryFile() as memfile:\n",
    "            with memfile.open(**profile) as dataset:\n",
    "                dataset.write(pr_array_resize, 1)\n",
    "\n",
    "            with memfile.open() as o_dataset:\n",
    "                mosaic_container.append(o_dataset)\n",
    "\n",
    "    mosaic, out_trans = merge(mosaic_container)\n",
    "    out_meta.update({\"height\": mosaic.shape[1],\n",
    "                     \"width\": mosaic.shape[2],\n",
    "                     \"transform\": out_trans,\n",
    "                       }\n",
    "                        )\n",
    "\n",
    "    out_fp = f'{out_dir}/mosaic.tif'\n",
    "\n",
    "    with rasterio.open(out_fp, \"w\", **out_meta) as dest:\n",
    "        dest.write(mosaic)"
   ]
  },
  {
   "cell_type": "code",
   "execution_count": 30,
   "id": "71e04c17-f107-486d-a875-80a9122ea66c",
   "metadata": {},
   "outputs": [],
   "source": [
    "def get_args():\n",
    "    parser = argparse.ArgumentParser(description='Train the UNet on images and target masks', formatter_class=argparse.ArgumentDefaultsHelpFormatter)\n",
    "    parser.add_argument('-l', '--checkpoint', dest='checkpoint', type=str, default='/home/getch/ssl/GORILLA/results/esalandcover/checkpoints/ff_best_weight.pth', help='Load model from a .pth file')\n",
    "    parser.add_argument('-n', '--n_class', default=8, type=int, help='Number of classes in the mask/label and or model')\n",
    "    parser.add_argument('-c', '--n_channel', default=4, type=int, help='Number of channels in the image')\n",
    "    parser.add_argument('-t', '--data_dir', type=str, default='/home/getch/.cache/kagglehub/datasets/getachewworkineh/uganda-landcover/versions/1/samples/test/images', help='train data folder')\n",
    "    parser.add_argument('-d', '--save_dir', type=str, default='/home/getch/ssl/GORILLA/results/full_preduction', help='directory to save the checkpoint and results')\n",
    "    parser.add_argument('-x', '--ext', type=str, help='image and labnel file extension', default='.tif')\n",
    "    parser.add_argument('-s', '--shape', type=int, default=512, help='image shape')\n",
    "    return parser.parse_args()"
   ]
  },
  {
   "cell_type": "code",
   "execution_count": 33,
   "id": "9014a224-9b59-489f-b38f-efb9fd0fb39a",
   "metadata": {},
   "outputs": [],
   "source": [
    "def run_main(args):\n",
    "    \n",
    "    files = glob(f'{args.data_dir}/{args.ext}')\n",
    "    \n",
    "    if not os.exists(args.save_dir):\n",
    "        os.makedirs(args.save_dir, exist_ok=True)\n",
    "    \n",
    "    predict_moaic(files=files,\n",
    "                  n_channel=args.n_channel,\n",
    "                  n_class=args.n_class,\n",
    "                  checkpoint=args.checkpoint,\n",
    "                  out_dir=args.save_dir,\n",
    "                  shape=args.shape)\n",
    "    \n",
    "# if __name__ == '__main__':\n",
    "#     args = get_args()\n",
    "#     main(args=args)"
   ]
  },
  {
   "cell_type": "code",
   "execution_count": 34,
   "id": "712263c5",
   "metadata": {},
   "outputs": [
    {
     "name": "stderr",
     "output_type": "stream",
     "text": [
      "usage: ipykernel_launcher.py [-h] [-l CHECKPOINT] [-n N_CLASS] [-c N_CHANNEL]\n",
      "                             [-t DATA_DIR] [-d SAVE_DIR] [-x EXT] [-s SHAPE]\n",
      "ipykernel_launcher.py: error: unrecognized arguments: --ip=127.0.0.1 --stdin=9013 --control=9011 --hb=9010 --Session.signature_scheme=\"hmac-sha256\" --Session.key=b\"304357fb-a649-48ee-b3b3-45083948aa63\" --shell=9012 --transport=\"tcp\" --iopub=9014 --f=/home/getch/.local/share/jupyter/runtime/kernel-v2-1955771RfL9ExH7X1KI.json\n"
     ]
    },
    {
     "ename": "SystemExit",
     "evalue": "2",
     "output_type": "error",
     "traceback": [
      "An exception has occurred, use %tb to see the full traceback.\n",
      "\u001b[0;31mSystemExit\u001b[0m\u001b[0;31m:\u001b[0m 2\n"
     ]
    },
    {
     "name": "stderr",
     "output_type": "stream",
     "text": [
      "/home/getch/anaconda3/envs/maml/lib/python3.9/site-packages/IPython/core/interactiveshell.py:3406: UserWarning: To exit: use 'exit', 'quit', or Ctrl-D.\n",
      "  warn(\"To exit: use 'exit', 'quit', or Ctrl-D.\", stacklevel=1)\n"
     ]
    }
   ],
   "source": [
    "args = get_args()\n",
    "run_main(args=args)"
   ]
  },
  {
   "cell_type": "code",
   "execution_count": 9,
   "id": "f6d5f729",
   "metadata": {},
   "outputs": [
    {
     "data": {
      "text/plain": [
       "697"
      ]
     },
     "execution_count": 9,
     "metadata": {},
     "output_type": "execute_result"
    }
   ],
   "source": [
    "import os\n",
    "from glob import glob\n",
    "len(glob('/home/getch/.cache/kagglehub/datasets/getachewworkineh/uganda-landcover/versions/1/samples/test/images/*.tif'))"
   ]
  },
  {
   "cell_type": "code",
   "execution_count": 1,
   "id": "1f4cc06f",
   "metadata": {},
   "outputs": [
    {
     "name": "stdout",
     "output_type": "stream",
     "text": [
      "Downloading from https://www.kaggle.com/api/v1/datasets/download/getachewworkineh/uganda-landcover?dataset_version_number=2...\n"
     ]
    },
    {
     "name": "stderr",
     "output_type": "stream",
     "text": [
      "100%|██████████| 6.42G/6.42G [04:02<00:00, 28.5MB/s]  "
     ]
    },
    {
     "name": "stdout",
     "output_type": "stream",
     "text": [
      "Extracting files...\n"
     ]
    },
    {
     "name": "stderr",
     "output_type": "stream",
     "text": [
      "\n"
     ]
    },
    {
     "name": "stdout",
     "output_type": "stream",
     "text": [
      "Path to dataset files: /home/getch/.cache/kagglehub/datasets/getachewworkineh/uganda-landcover/versions/2\n"
     ]
    }
   ],
   "source": [
    "import kagglehub\n",
    "\n",
    "# Download latest version\n",
    "path = kagglehub.dataset_download(\"getachewworkineh/uganda-landcover\")\n",
    "\n",
    "print(\"Path to dataset files:\", path)"
   ]
  },
  {
   "cell_type": "code",
   "execution_count": 5,
   "id": "c35c632d",
   "metadata": {},
   "outputs": [
    {
     "data": {
      "text/plain": [
       "'/home/getch/.cache/kagglehub/datasets/getachewworkineh/uganda-landcover/versions/2/landcover_data_v2'"
      ]
     },
     "execution_count": 5,
     "metadata": {},
     "output_type": "execute_result"
    }
   ],
   "source": [
    "import os\n",
    "# os.listdir(path + '/' + 'landcover_data_v2')\n",
    "path + '/' + 'landcover_data_v2'"
   ]
  }
 ],
 "metadata": {
  "kernelspec": {
   "display_name": "Python 3 (ipykernel)",
   "language": "python",
   "name": "python3"
  },
  "language_info": {
   "codemirror_mode": {
    "name": "ipython",
    "version": 3
   },
   "file_extension": ".py",
   "mimetype": "text/x-python",
   "name": "python",
   "nbconvert_exporter": "python",
   "pygments_lexer": "ipython3",
   "version": "3.9.13"
  }
 },
 "nbformat": 4,
 "nbformat_minor": 5
}
